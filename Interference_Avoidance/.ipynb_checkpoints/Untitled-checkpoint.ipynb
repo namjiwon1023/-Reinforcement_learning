{
 "cells": [
  {
   "cell_type": "code",
   "execution_count": 1,
   "id": "synthetic-links",
   "metadata": {},
   "outputs": [],
   "source": [
    "import matplotlib.pyplot as plt\n",
    "import os\n",
    "import numpy as np\n"
   ]
  },
  {
   "cell_type": "code",
   "execution_count": 2,
   "id": "handmade-journalism",
   "metadata": {},
   "outputs": [],
   "source": [
    "rewardDict =  np.loadtxt(\"./Total_reward.txt\", delimiter=',')\n"
   ]
  },
  {
   "cell_type": "code",
   "execution_count": 3,
   "id": "virgin-sailing",
   "metadata": {},
   "outputs": [
    {
     "name": "stdout",
     "output_type": "stream",
     "text": [
      "[-1. -1. -1. ... -1. -1. -1.]\n"
     ]
    }
   ],
   "source": [
    "print(rewardDict)"
   ]
  },
  {
   "cell_type": "code",
   "execution_count": 4,
   "id": "municipal-large",
   "metadata": {},
   "outputs": [],
   "source": [
    "R_mean = rewardDict.mean()"
   ]
  },
  {
   "cell_type": "code",
   "execution_count": 5,
   "id": "mobile-burden",
   "metadata": {},
   "outputs": [
    {
     "name": "stdout",
     "output_type": "stream",
     "text": [
      "16.920305378539425\n"
     ]
    }
   ],
   "source": [
    "print(R_mean)"
   ]
  },
  {
   "cell_type": "code",
   "execution_count": 6,
   "id": "guilty-drain",
   "metadata": {},
   "outputs": [
    {
     "data": {
      "image/png": "[encoded data removed]",
      "text/plain": [
       "<Figure size 432x288 with 1 Axes>"
      ]
     },
     "metadata": {
      "needs_background": "light"
     },
     "output_type": "display_data"
    }
   ],
   "source": [
    "x = np.linspace(0, 10000)\n",
    "y = x *0 + R_mean\n",
    "\n",
    "plt.figure()\n",
    "plt.title(\"Total_scores\")\n",
    "plt.grid(True)\n",
    "\n",
    "    # 设置X轴\n",
    "plt.xlabel(\"Episode\")\n",
    "plt.xlim(0, 2000)\n",
    "# plt.xticks(np.linspace(-4, 4, 9, endpoint=True))\n",
    "\n",
    "    # 设置Y轴\n",
    "plt.ylabel(\"Total reward\")\n",
    "plt.ylim(0, 10000)\n",
    "\n",
    "# plt.yticks(np.linspace(-1, 1, 9, endpoint=True))\n",
    "\n",
    "plt.plot(DDPG, \"b-\", linewidth=2.0, label=\"DDPG_scores\")\n",
    "plt.plot(x,y, \"r--\", linewidth=2.0, label=\"mini_scores\")\n",
    "plt.legend(loc=\"lower right\", shadow=True)\n",
    "\n",
    "plt.show()"
   ]
  },
  {
   "cell_type": "code",
   "execution_count": null,
   "id": "fallen-america",
   "metadata": {},
   "outputs": [],
   "source": []
  }
 ],
 "metadata": {
  "kernelspec": {
   "display_name": "Python 3",
   "language": "python",
   "name": "python3"
  },
  "language_info": {
   "codemirror_mode": {
    "name": "ipython",
    "version": 3
   },
   "file_extension": ".py",
   "mimetype": "text/x-python",
   "name": "python",
   "nbconvert_exporter": "python",
   "pygments_lexer": "ipython3",
   "version": "3.7.9"
  }
 },
 "nbformat": 4,
 "nbformat_minor": 5
}
